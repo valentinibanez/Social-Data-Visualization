{
 "cells": [
  {
   "cell_type": "code",
   "execution_count": null,
   "metadata": {
    "collapsed": true
   },
   "outputs": [],
   "source": [
    "import pandas as pd\n",
    "from sklearn import cluster\n",
    "import matplotlib.pyplot as plt\n",
    "from matplotlib import pyplot\n",
    "import numpy as np\n",
    "\n",
    "# Read in data and preprocess\n",
    "df = pd.read_csv(\"C:\\Users\\jamie\\Downloads\\SFPD_Incidents_-_from_1_January_2003.csv\")\n",
    "df = df.dropna()\n",
    "df_prost = df[df.Category == 'PROSTITUTION'] # Select a single category\n",
    "df_prost = df_prost.drop('Location',1) # Drop unneeded column\n",
    "df_prost = df_prost[df_prost.Y < 60] # Remove outlier from data\n",
    "data = np.array(zip(df_prost.X, df_prost.Y)) # Zip X and Y coordinates"
   ]
  },
  {
   "cell_type": "code",
   "execution_count": null,
   "metadata": {
    "collapsed": true
   },
   "outputs": [],
   "source": [
    "# Define the number of clusters in the variable k\n",
    "k = 2\n",
    "kmeans = cluster.KMeans(init='k-means++', n_clusters=k, n_init=10)\n",
    "kmeans.fit(data)\n",
    "\n",
    "# Create the clustering\n",
    "labels = kmeans.labels_\n",
    "labels_unique = np.unique(labels)\n",
    "centroids = kmeans.cluster_centers_"
   ]
  },
  {
   "cell_type": "code",
   "execution_count": null,
   "metadata": {
    "collapsed": true
   },
   "outputs": [],
   "source": [
    "# Plot the clustering\n",
    "for i in range(k):\n",
    "    ds = data[np.where(labels==i)]\n",
    "    pyplot.plot(ds[:,0],ds[:,1],'o')\n",
    "    lines = pyplot.plot(centroids[i,0],centroids[i,1],'kx')\n",
    "    pyplot.setp(lines,ms=15.0)\n",
    "    pyplot.setp(lines,mew=2.0)\n",
    "pyplot.show()"
   ]
  },
  {
   "cell_type": "code",
   "execution_count": null,
   "metadata": {
    "collapsed": true
   },
   "outputs": [],
   "source": [
    "# Make csv file\n",
    "to_csv_data = np.array(zip(data, labels))\n",
    "text = 'x,y,label\\n'\n",
    "for e in to_csv_data:\n",
    "    text += '{},{},{} '.format(e[0][0], e[0][1], e[1])\n",
    "    text += '\\n'\n",
    "# Write the string to a file.\n",
    "with open('points.csv', 'w') as f:\n",
    "    f.write(text)\n",
    "\n",
    "to_csv_centroids = np.array(zip(centroids, labels_unique))\n",
    "# Write the string to a file.\n",
    "with open('centroids.csv', 'w') as f:\n",
    "    f.write('x,y,label\\n')\n",
    "    for e in to_csv_centroids:\n",
    "        f.write(\"{0},{1},{2}\\n\".format(e[0][0],e[0][1],e[1]))"
   ]
  }
 ],
 "metadata": {
  "kernelspec": {
   "display_name": "Python 2",
   "language": "python",
   "name": "python2"
  },
  "language_info": {
   "codemirror_mode": {
    "name": "ipython",
    "version": 2
   },
   "file_extension": ".py",
   "mimetype": "text/x-python",
   "name": "python",
   "nbconvert_exporter": "python",
   "pygments_lexer": "ipython2",
   "version": "2.7.11"
  }
 },
 "nbformat": 4,
 "nbformat_minor": 0
}
